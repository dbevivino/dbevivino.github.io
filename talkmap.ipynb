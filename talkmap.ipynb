{
 "cells": [
  {
   "cell_type": "markdown",
   "metadata": {},
   "source": [
    "# Leaflet cluster map of talk locations\n",
    "\n",
    "Assuming you are working in a Linux or Windows Subsystem for Linux environment, you may need to install some dependencies. Assuming a clean installation, the following will be needed:\n",
    "\n",
    "```bash\n",
    "sudo apt install jupyter\n",
    "sudo apt install python3-pip\n",
    "pip install python-frontmatter getorg --upgrade\n",
    "```\n",
    "\n",
    "After which you can run this from the `_talks/` directory, via:\n",
    "\n",
    "```bash\n",
    " jupyter nbconvert --to notebook --execute talkmap.ipynb --output talkmap_out.ipynb\n",
    "```\n",
    " \n",
    "The `_talks/` directory contains `.md` files of all your talks. This scrapes the location YAML field from each `.md` file, geolocates it with `geopy/Nominatim`, and uses the `getorg` library to output data, HTML, and Javascript for a standalone cluster map."
   ]
  },
  {
   "cell_type": "code",
   "execution_count": 2,
   "metadata": {
    "collapsed": false
   },
   "outputs": [
    {
     "name": "stderr",
     "output_type": "stream",
     "text": [
      "53.57s - pydevd: Sending message related to process being replaced timed-out after 5 seconds\n"
     ]
    },
    {
     "name": "stdout",
     "output_type": "stream",
     "text": [
      "Requirement already satisfied: python-frontmatter in ./.venv/lib/python3.13/site-packages (1.1.0)\n",
      "Requirement already satisfied: getorg in ./.venv/lib/python3.13/site-packages (0.3.1)\n",
      "Requirement already satisfied: PyYAML in ./.venv/lib/python3.13/site-packages (from python-frontmatter) (6.0.2)\n",
      "Requirement already satisfied: geopy in ./.venv/lib/python3.13/site-packages (from getorg) (2.4.1)\n",
      "Requirement already satisfied: pygithub in ./.venv/lib/python3.13/site-packages (from getorg) (2.8.1)\n",
      "Requirement already satisfied: retrying in ./.venv/lib/python3.13/site-packages (from getorg) (1.4.2)\n",
      "Requirement already satisfied: geographiclib<3,>=1.52 in ./.venv/lib/python3.13/site-packages (from geopy->getorg) (2.1)\n",
      "Requirement already satisfied: pynacl>=1.4.0 in ./.venv/lib/python3.13/site-packages (from pygithub->getorg) (1.6.0)\n",
      "Requirement already satisfied: requests>=2.14.0 in ./.venv/lib/python3.13/site-packages (from pygithub->getorg) (2.32.5)\n",
      "Requirement already satisfied: pyjwt>=2.4.0 in ./.venv/lib/python3.13/site-packages (from pyjwt[crypto]>=2.4.0->pygithub->getorg) (2.10.1)\n",
      "Requirement already satisfied: typing-extensions>=4.5.0 in ./.venv/lib/python3.13/site-packages (from pygithub->getorg) (4.15.0)\n",
      "Requirement already satisfied: urllib3>=1.26.0 in ./.venv/lib/python3.13/site-packages (from pygithub->getorg) (2.5.0)\n",
      "Requirement already satisfied: cryptography>=3.4.0 in ./.venv/lib/python3.13/site-packages (from pyjwt[crypto]>=2.4.0->pygithub->getorg) (45.0.7)\n",
      "Requirement already satisfied: cffi>=1.14 in ./.venv/lib/python3.13/site-packages (from cryptography>=3.4.0->pyjwt[crypto]>=2.4.0->pygithub->getorg) (2.0.0)\n",
      "Requirement already satisfied: pycparser in ./.venv/lib/python3.13/site-packages (from cffi>=1.14->cryptography>=3.4.0->pyjwt[crypto]>=2.4.0->pygithub->getorg) (2.23)\n",
      "Requirement already satisfied: charset_normalizer<4,>=2 in ./.venv/lib/python3.13/site-packages (from requests>=2.14.0->pygithub->getorg) (3.4.3)\n",
      "Requirement already satisfied: idna<4,>=2.5 in ./.venv/lib/python3.13/site-packages (from requests>=2.14.0->pygithub->getorg) (3.10)\n",
      "Requirement already satisfied: certifi>=2017.4.17 in ./.venv/lib/python3.13/site-packages (from requests>=2.14.0->pygithub->getorg) (2025.8.3)\n"
     ]
    }
   ],
   "source": [
    "# Start by installing the dependencies\n",
    "!pip install python-frontmatter getorg --upgrade\n",
    "import frontmatter\n",
    "import glob\n",
    "import getorg\n",
    "from geopy import Nominatim\n",
    "from geopy.exc import GeocoderTimedOut"
   ]
  },
  {
   "cell_type": "code",
   "execution_count": 3,
   "metadata": {
    "collapsed": false
   },
   "outputs": [],
   "source": [
    "# Collect the Markdown files\n",
    "g = glob.glob(\"_talks/*.md\")"
   ]
  },
  {
   "cell_type": "code",
   "execution_count": null,
   "metadata": {
    "collapsed": true
   },
   "outputs": [],
   "source": [
    "# Set the default timeout, in seconds\n",
    "TIMEOUT = 15\n",
    "\n",
    "# Prepare to geolocate\n",
    "geocoder = Nominatim(user_agent=\"academicpages.github.io\")\n",
    "location_dict = {}\n",
    "location = \"\"\n",
    "permalink = \"\"\n",
    "title = \"\""
   ]
  },
  {
   "cell_type": "markdown",
   "metadata": {},
   "source": [
    "In the event that this times out with an error, double check to make sure that the location is can be properly geolocated."
   ]
  },
  {
   "cell_type": "code",
   "execution_count": 5,
   "metadata": {
    "collapsed": false
   },
   "outputs": [
    {
     "name": "stdout",
     "output_type": "stream",
     "text": [
      "Eye-tracking Workshop<br />Rencontres Jeunes Chercheurs en Parole (RJCP); Paris, France Paris, Île-de-France, France métropolitaine, France\n",
      "Data from online production experiments and challenges for collecting good-quality recordings for prosodic analyses<br />the International Congress of Phonetic Sciences (ICPhS 20); Prague, Czechia Hlavní město Praha, Praha, Česko\n",
      "Priming boundaries in production: Data from French<br />Speech Prosody 2024 (SP2024); Leiden, The Netherlands Leiden, Zuid-Holland, Nederland\n",
      "Breaking the French Accentual Phrase: Does priming prosodic phrasing modulate sentence processing?<br />the LSA Summer Institute at Umass; Amherst (MA), USA Murphy USA, 4201, South Amherst Highway, Great Oaks, Madison Heights, Amherst County, Virginia, 24572, United States\n",
      "Attention and labelling in monolingual and bilingual caregiver-infant interactions<br />the International Congress of Infant Studies (ICIS); Ottawa, Canada Ottawa, Eastern Ontario, Ontario, Canada\n",
      "Priming prosodic structure in production in English: A pilot study<br />the Laboratory of Excellence “Empirical Foundations of Linguistics” (LabEx EFL) Annual Symposium; Paris, France Paris, Île-de-France, France métropolitaine, France\n",
      "Talk 1 on Relevant Topic in Your Field<br />UC San Francisco, Department of Testing; San Francisco, CA, USA San Francisco, California, United States\n",
      "Does priming prosodic phrasing modulate sentence processing? An eye-tracking study<br />MEDAL Summer School in Experimental Linguistics at the Max Planck Institute for Psycholinguistics; Nijmegen, The Netherlands Nijmegen, Gelderland, Nederland\n",
      "Caregivers adjust their speech in response to bilingual infants’ attentional preferences<br />ABC'21: Language and cognition in typical and atypical development at the Chinese University of Hong Kong/virtual; Hong Kong, China 香港 Hong Kong, 中国\n",
      "Priming prosodic boundaries across constructions<br />Linguistic Evidence 2022; Paris, France Paris, Île-de-France, France métropolitaine, France\n",
      "A cross-linguistic and acquisitional perspective on prosodic priming<br />the PhD's seminar SFL-LLF; Paris, France Paris, Île-de-France, France métropolitaine, France\n",
      "Does priming prosodic phrasing modulate reading times? Evidence from audio-primed acceptability judgment experiments<br />Architectures and Mechanisms for Language Processing (AMLaP 29); Donostia-San Sebastián, Basque Country, Spain Donostia / San Sebastián, Gipuzkoa, Euskadi, España\n",
      "Priming prosodic boundaries in an online speech production experiment<br />Architectures and Mechanisms for Language Processing (AMLaP 28); York, UK York, York and North Yorkshire, England, United Kingdom\n",
      "Priming cooperating prosodic phrasing increases reading times: An eye-tracking study<br />Architectures and Mechanisms for Language Processing (AMLaP 31); Prague, Czechia Hlavní město Praha, Praha, Česko\n",
      "Does priming prosodic phrasing modulate sentence processing? An eye-tracking study design<br />the Experimental Linguistics Workshop; Paris, France Paris, Île-de-France, France métropolitaine, France\n"
     ]
    }
   ],
   "source": [
    "# Perform geolocation\n",
    "for file in g:\n",
    "    # Read the file\n",
    "    data = frontmatter.load(file)\n",
    "    data = data.to_dict()\n",
    "\n",
    "    # Press on if the location is not present\n",
    "    if 'location' not in data:\n",
    "        continue\n",
    "\n",
    "    # Prepare the description\n",
    "    title = data['title'].strip()\n",
    "    venue = data['venue'].strip()\n",
    "    location = data['location'].strip()\n",
    "    description = f\"{title}<br />{venue}; {location}\"\n",
    "\n",
    "    # Geocode the location and report the status\n",
    "    try:\n",
    "        location_dict[description] = geocoder.geocode(location, timeout=TIMEOUT)\n",
    "        print(description, location_dict[description])\n",
    "    except ValueError as ex:\n",
    "        print(f\"Error: geocode failed on input {location} with message {ex}\")\n",
    "    except GeocoderTimedOut as ex:\n",
    "        print(f\"Error: geocode timed out on input {location} with message {ex}\")\n",
    "    except Exception as ex:\n",
    "        print(f\"An unhandled exception occurred while processing input {location} with message {ex}\")"
   ]
  },
  {
   "cell_type": "code",
   "execution_count": 6,
   "metadata": {
    "collapsed": false
   },
   "outputs": [
    {
     "data": {
      "text/plain": [
       "'Written map to talkmap/'"
      ]
     },
     "execution_count": 6,
     "metadata": {},
     "output_type": "execute_result"
    }
   ],
   "source": [
    "# Save the map\n",
    "m = getorg.orgmap.create_map_obj()\n",
    "getorg.orgmap.output_html_cluster_map(location_dict, folder_name=\"talkmap\", hashed_usernames=False)"
   ]
  },
  {
   "cell_type": "code",
   "execution_count": null,
   "metadata": {
    "collapsed": true
   },
   "outputs": [],
   "source": []
  }
 ],
 "metadata": {
  "anaconda-cloud": {},
  "kernelspec": {
   "display_name": ".venv (3.13.5)",
   "language": "python",
   "name": "python3"
  },
  "language_info": {
   "codemirror_mode": {
    "name": "ipython",
    "version": 3
   },
   "file_extension": ".py",
   "mimetype": "text/x-python",
   "name": "python",
   "nbconvert_exporter": "python",
   "pygments_lexer": "ipython3",
   "version": "3.13.5"
  }
 },
 "nbformat": 4,
 "nbformat_minor": 0
}
