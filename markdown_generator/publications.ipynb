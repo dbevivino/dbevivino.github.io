{
 "cells": [
  {
   "cell_type": "markdown",
   "metadata": {
    "deletable": true,
    "editable": true
   },
   "source": [
    "# Publications markdown generator for academicpages\n",
    "\n",
    "Takes a TSV of publications with metadata and converts them for use with [academicpages.github.io](academicpages.github.io). This is an interactive Jupyter notebook ([see more info here](http://jupyter-notebook-beginner-guide.readthedocs.io/en/latest/what_is_jupyter.html)). The core python code is also in `publications.py`. Run either from the `markdown_generator` folder after replacing `publications.tsv` with one containing your data.\n",
    "\n",
    "TODO: Make this work with BibTex and other databases of citations, rather than Stuart's non-standard TSV format and citation style.\n"
   ]
  },
  {
   "cell_type": "markdown",
   "metadata": {},
   "source": [
    "## Data format\n",
    "\n",
    "The TSV needs to have the following columns: pub_date, title, venue, excerpt, citation, site_url, and paper_url, with a header at the top. \n",
    "\n",
    "- `excerpt` and `paper_url` can be blank, but the others must have values. \n",
    "- `pub_date` must be formatted as YYYY-MM-DD.\n",
    "- `url_slug` will be the descriptive part of the .md file and the permalink URL for the page about the paper. The .md file will be `YYYY-MM-DD-[url_slug].md` and the permalink will be `https://[yourdomain]/publications/YYYY-MM-DD-[url_slug]`\n",
    "\n",
    "This is how the raw file looks (it doesn't look pretty, use a spreadsheet or other program to edit and create)."
   ]
  },
  {
   "cell_type": "code",
   "execution_count": 79,
   "metadata": {
    "collapsed": false
   },
   "outputs": [
    {
     "name": "stderr",
     "output_type": "stream",
     "text": [
      "5302.24s - pydevd: Sending message related to process being replaced timed-out after 5 seconds\n"
     ]
    },
    {
     "name": "stdout",
     "output_type": "stream",
     "text": [
      "pub_date\tcategory\ttitle\tvenue\texcerpt\tcitation\turl_slug\tpaper_url\tslides_url\n",
      "2024-07-01\tconferences\tPriming boundaries in production: Data from French \tProceedings of the 12th International Conference on Speech Prosody\t\t<strong>Bevivino, D.</strong>, Huygevelde, M., Hemforth, B., &amp; Turco, G. (2024). Priming boundaries in production: Data from French. <em>Proceedings of the 12th International Conference on Speech Prosody</em>, 1005-1009. <a href=\"https://doi.org/10.21437/SpeechProsody.2024-203\">https://doi.org/10.21437/SpeechProsody.2024-203</a>\tbevivino-sp-2024\t\t\n",
      "2025-08-01\tconferences\tData from online production experiments and challenges for collecting good-quality recordings for prosodic analyses \tProceedings of the 20th International Congress of Phonetic Sciences (ICPhS 2023)\t\t<strong>Bevivino, D</strong>., Hemforth, B., &amp; Turco, G. (2023). Data from online production experiments and challenges for collecting good-quality recordings for prosodic analyses. In: R. Skarnitzl &amp; J. Vol&iacute;n (Eds.), <em>Proceedings of the 20th International Congress of Phonetic Sciences (ICPhS 2023)</em> (pp. 3452&ndash;3456). International Phonetic Association. <a href=\"https://www.internationalphoneticassociation.org/icphs-proceedings/ICPhS2023/full_papers/152.pdf\">https://www.internationalphoneticassociation.org/icphs-proceedings/ICPhS2023/full_papers/152.pdf</a>\tbevivino-icphs-2023\t\t\n",
      "2025-10-01\tinprogress\tBig Team Science for language science: Opportunities and challenges \tLinguistics: An Interdisciplinary Journal of the Language Sciences\t\tFaytak, M., _. Kadavá, O. Özsoy, C. Xu, […], <strong>Bevivino, D.</strong>, […], &amp; Buchanan, E.M. and Roettger, T.B. (accepted). Big Team Science for Language Science: Opportunities and Challenges [preprint at <a href=\"https://osf.io/3pkj6\">https://osf.io/3pkj6</a>]\tfaytak-bts-2025\t\t\n",
      "2025-11-01\tinprogress\tIntonational phrase boundaries can be primed in production\tin prep\t\t<strong>Bevivino, D.</strong>, Turco, G., &amp; Hemforth, B. Intonational phrase boundaries can be primed in Production [pre-registered at <a href=\"https://doi.org/10.17605/OSF.IO/Z24KE\">doi.org/10.17605/OSF.IO/Z24KE</a>]\tbevivino-ppen-2025\t\t\n",
      "2025-12-01\tinprogress\tPriming effects of delexicalized prosodic phrasing on implicit prosody and sentence processing - An eye-tracking study in French\tin prep\t\t<strong>Bevivino, D</strong>., Hemforth, B., &amp; Turco, G. Priming effects of delexicalized prosodic phrasing on implicit prosody and sentence processing - An eye-tracking study in French [pre-registered at <a href=\"https://doi.org/10.17605/OSF.IO/SY5UW\">doi.org/10.17605/OSF.IO/SY5UW</a> and at <a href=\"https://doi.org/10.17605/OSF.IO/9QP6K\">doi.org/10.17605/OSF.IO/9QP6K</a>]\tbevivino-bap-2025\n",
      "EXTRALINE TO RUN LAST ITEM SAFELY\n"
     ]
    }
   ],
   "source": [
    "!cat publications.tsv"
   ]
  },
  {
   "cell_type": "markdown",
   "metadata": {},
   "source": [
    "## Import pandas\n",
    "\n",
    "We are using the very handy pandas library for dataframes."
   ]
  },
  {
   "cell_type": "code",
   "execution_count": 80,
   "metadata": {
    "collapsed": true,
    "deletable": true,
    "editable": true
   },
   "outputs": [],
   "source": [
    "import pandas as pd"
   ]
  },
  {
   "cell_type": "markdown",
   "metadata": {},
   "source": [
    "## Import TSV\n",
    "\n",
    "Pandas makes this easy with the read_csv function. We are using a TSV, so we specify the separator as a tab, or `\\t`.\n",
    "\n",
    "I found it important to put this data in a tab-separated values format, because there are a lot of commas in this kind of data and comma-separated values can get messed up. However, you can modify the import statement, as pandas also has read_excel(), read_json(), and others."
   ]
  },
  {
   "cell_type": "code",
   "execution_count": 81,
   "metadata": {
    "collapsed": false,
    "deletable": true,
    "editable": true
   },
   "outputs": [
    {
     "data": {
      "text/html": [
       "<div>\n",
       "<style scoped>\n",
       "    .dataframe tbody tr th:only-of-type {\n",
       "        vertical-align: middle;\n",
       "    }\n",
       "\n",
       "    .dataframe tbody tr th {\n",
       "        vertical-align: top;\n",
       "    }\n",
       "\n",
       "    .dataframe thead th {\n",
       "        text-align: right;\n",
       "    }\n",
       "</style>\n",
       "<table border=\"1\" class=\"dataframe\">\n",
       "  <thead>\n",
       "    <tr style=\"text-align: right;\">\n",
       "      <th></th>\n",
       "      <th>pub_date</th>\n",
       "      <th>category</th>\n",
       "      <th>title</th>\n",
       "      <th>venue</th>\n",
       "      <th>excerpt</th>\n",
       "      <th>citation</th>\n",
       "      <th>url_slug</th>\n",
       "      <th>paper_url</th>\n",
       "      <th>slides_url</th>\n",
       "    </tr>\n",
       "  </thead>\n",
       "  <tbody>\n",
       "    <tr>\n",
       "      <th>0</th>\n",
       "      <td>2024-07-01</td>\n",
       "      <td>conferences</td>\n",
       "      <td>Priming boundaries in production: Data from Fr...</td>\n",
       "      <td>Proceedings of the 12th International Conferen...</td>\n",
       "      <td>NaN</td>\n",
       "      <td>&lt;strong&gt;Bevivino, D.&lt;/strong&gt;, Huygevelde, M.,...</td>\n",
       "      <td>bevivino-sp-2024</td>\n",
       "      <td>NaN</td>\n",
       "      <td>NaN</td>\n",
       "    </tr>\n",
       "    <tr>\n",
       "      <th>1</th>\n",
       "      <td>2025-08-01</td>\n",
       "      <td>conferences</td>\n",
       "      <td>Data from online production experiments and ch...</td>\n",
       "      <td>Proceedings of the 20th International Congress...</td>\n",
       "      <td>NaN</td>\n",
       "      <td>&lt;strong&gt;Bevivino, D&lt;/strong&gt;., Hemforth, B., &amp;...</td>\n",
       "      <td>bevivino-icphs-2023</td>\n",
       "      <td>NaN</td>\n",
       "      <td>NaN</td>\n",
       "    </tr>\n",
       "    <tr>\n",
       "      <th>2</th>\n",
       "      <td>2025-10-01</td>\n",
       "      <td>inprogress</td>\n",
       "      <td>Big Team Science for language science: Opportu...</td>\n",
       "      <td>Linguistics: An Interdisciplinary Journal of t...</td>\n",
       "      <td>NaN</td>\n",
       "      <td>Faytak, M., _. Kadavá, O. Özsoy, C. Xu, […], &lt;...</td>\n",
       "      <td>faytak-bts-2025</td>\n",
       "      <td>NaN</td>\n",
       "      <td>NaN</td>\n",
       "    </tr>\n",
       "    <tr>\n",
       "      <th>3</th>\n",
       "      <td>2025-11-01</td>\n",
       "      <td>inprogress</td>\n",
       "      <td>Intonational phrase boundaries can be primed i...</td>\n",
       "      <td>in prep</td>\n",
       "      <td>NaN</td>\n",
       "      <td>&lt;strong&gt;Bevivino, D.&lt;/strong&gt;, Turco, G., &amp;amp...</td>\n",
       "      <td>bevivino-ppen-2025</td>\n",
       "      <td>NaN</td>\n",
       "      <td>NaN</td>\n",
       "    </tr>\n",
       "    <tr>\n",
       "      <th>4</th>\n",
       "      <td>2025-12-01</td>\n",
       "      <td>inprogress</td>\n",
       "      <td>Priming effects of delexicalized prosodic phra...</td>\n",
       "      <td>in prep</td>\n",
       "      <td>NaN</td>\n",
       "      <td>&lt;strong&gt;Bevivino, D&lt;/strong&gt;., Hemforth, B., &amp;...</td>\n",
       "      <td>bevivino-bap-2025</td>\n",
       "      <td>NaN</td>\n",
       "      <td>NaN</td>\n",
       "    </tr>\n",
       "    <tr>\n",
       "      <th>5</th>\n",
       "      <td>EXTRALINE TO RUN LAST ITEM SAFELY</td>\n",
       "      <td>NaN</td>\n",
       "      <td>NaN</td>\n",
       "      <td>NaN</td>\n",
       "      <td>NaN</td>\n",
       "      <td>NaN</td>\n",
       "      <td>NaN</td>\n",
       "      <td>NaN</td>\n",
       "      <td>NaN</td>\n",
       "    </tr>\n",
       "  </tbody>\n",
       "</table>\n",
       "</div>"
      ],
      "text/plain": [
       "                            pub_date     category  \\\n",
       "0                         2024-07-01  conferences   \n",
       "1                         2025-08-01  conferences   \n",
       "2                         2025-10-01   inprogress   \n",
       "3                         2025-11-01   inprogress   \n",
       "4                         2025-12-01   inprogress   \n",
       "5  EXTRALINE TO RUN LAST ITEM SAFELY          NaN   \n",
       "\n",
       "                                               title  \\\n",
       "0  Priming boundaries in production: Data from Fr...   \n",
       "1  Data from online production experiments and ch...   \n",
       "2  Big Team Science for language science: Opportu...   \n",
       "3  Intonational phrase boundaries can be primed i...   \n",
       "4  Priming effects of delexicalized prosodic phra...   \n",
       "5                                                NaN   \n",
       "\n",
       "                                               venue  excerpt  \\\n",
       "0  Proceedings of the 12th International Conferen...      NaN   \n",
       "1  Proceedings of the 20th International Congress...      NaN   \n",
       "2  Linguistics: An Interdisciplinary Journal of t...      NaN   \n",
       "3                                            in prep      NaN   \n",
       "4                                            in prep      NaN   \n",
       "5                                                NaN      NaN   \n",
       "\n",
       "                                            citation             url_slug  \\\n",
       "0  <strong>Bevivino, D.</strong>, Huygevelde, M.,...     bevivino-sp-2024   \n",
       "1  <strong>Bevivino, D</strong>., Hemforth, B., &...  bevivino-icphs-2023   \n",
       "2  Faytak, M., _. Kadavá, O. Özsoy, C. Xu, […], <...      faytak-bts-2025   \n",
       "3  <strong>Bevivino, D.</strong>, Turco, G., &amp...   bevivino-ppen-2025   \n",
       "4  <strong>Bevivino, D</strong>., Hemforth, B., &...    bevivino-bap-2025   \n",
       "5                                                NaN                  NaN   \n",
       "\n",
       "   paper_url  slides_url  \n",
       "0        NaN         NaN  \n",
       "1        NaN         NaN  \n",
       "2        NaN         NaN  \n",
       "3        NaN         NaN  \n",
       "4        NaN         NaN  \n",
       "5        NaN         NaN  "
      ]
     },
     "execution_count": 81,
     "metadata": {},
     "output_type": "execute_result"
    }
   ],
   "source": [
    "publications = pd.read_csv(\"publications.tsv\", sep=\"\\t\", header=0)\n",
    "publications\n"
   ]
  },
  {
   "cell_type": "markdown",
   "metadata": {},
   "source": [
    "## Escape special characters\n",
    "\n",
    "YAML is very picky about how it takes a valid string, so we are replacing single and double quotes (and ampersands) with their HTML encoded equivilents. This makes them look not so readable in raw format, but they are parsed and rendered nicely."
   ]
  },
  {
   "cell_type": "code",
   "execution_count": 82,
   "metadata": {
    "collapsed": true,
    "deletable": true,
    "editable": true
   },
   "outputs": [],
   "source": [
    "html_escape_table = {\n",
    "    \"&\": \"&amp;\",\n",
    "    '\"': \"&quot;\",\n",
    "    \"'\": \"&apos;\"\n",
    "    }\n",
    "\n",
    "def html_escape(text):\n",
    "    \"\"\"Produce entities within text.\"\"\"\n",
    "    return \"\".join(html_escape_table.get(c,c) for c in text)"
   ]
  },
  {
   "cell_type": "markdown",
   "metadata": {},
   "source": [
    "## Creating the markdown files\n",
    "\n",
    "This is where the heavy lifting is done. This loops through all the rows in the TSV dataframe, then starts to concatentate a big string (```md```) that contains the markdown for each type. It does the YAML metadata first, then does the description for the individual page."
   ]
  },
  {
   "cell_type": "code",
   "execution_count": 83,
   "metadata": {
    "collapsed": false,
    "deletable": true,
    "editable": true
   },
   "outputs": [
    {
     "ename": "TypeError",
     "evalue": "can only concatenate str (not \"float\") to str",
     "output_type": "error",
     "traceback": [
      "\u001b[31m---------------------------------------------------------------------------\u001b[39m",
      "\u001b[31mTypeError\u001b[39m                                 Traceback (most recent call last)",
      "\u001b[36mCell\u001b[39m\u001b[36m \u001b[39m\u001b[32mIn[83]\u001b[39m\u001b[32m, line 4\u001b[39m\n\u001b[32m      1\u001b[39m \u001b[38;5;28;01mimport\u001b[39;00m\u001b[38;5;250m \u001b[39m\u001b[34;01mos\u001b[39;00m\n\u001b[32m      2\u001b[39m \u001b[38;5;28;01mfor\u001b[39;00m row, item \u001b[38;5;129;01min\u001b[39;00m publications.iterrows():\n\u001b[32m----> \u001b[39m\u001b[32m4\u001b[39m     md_filename = \u001b[38;5;28;43mstr\u001b[39;49m\u001b[43m(\u001b[49m\u001b[43mitem\u001b[49m\u001b[43m.\u001b[49m\u001b[43mpub_date\u001b[49m\u001b[43m)\u001b[49m\u001b[43m \u001b[49m\u001b[43m+\u001b[49m\u001b[43m \u001b[49m\u001b[33;43m\"\u001b[39;49m\u001b[33;43m-\u001b[39;49m\u001b[33;43m\"\u001b[39;49m\u001b[43m \u001b[49m\u001b[43m+\u001b[49m\u001b[43m \u001b[49m\u001b[43mitem\u001b[49m\u001b[43m.\u001b[49m\u001b[43murl_slug\u001b[49m + \u001b[33m\"\u001b[39m\u001b[33m.md\u001b[39m\u001b[33m\"\u001b[39m\n\u001b[32m      5\u001b[39m     html_filename = \u001b[38;5;28mstr\u001b[39m(item.pub_date) + \u001b[33m\"\u001b[39m\u001b[33m-\u001b[39m\u001b[33m\"\u001b[39m + item.url_slug\n\u001b[32m      6\u001b[39m     year = item.pub_date[:\u001b[32m4\u001b[39m]\n",
      "\u001b[31mTypeError\u001b[39m: can only concatenate str (not \"float\") to str"
     ]
    }
   ],
   "source": [
    "import os\n",
    "for row, item in publications.iterrows():\n",
    "    \n",
    "    md_filename = str(item.pub_date) + \"-\" + item.url_slug + \".md\"\n",
    "    html_filename = str(item.pub_date) + \"-\" + item.url_slug\n",
    "    year = item.pub_date[:4]\n",
    "    \n",
    "    ## YAML variables\n",
    "    \n",
    "    md = \"---\\ntitle: \\\"\"   + item.title + '\"\\n'\n",
    "    \n",
    "    md += \"\"\"collection: publications\"\"\"\n",
    "    \n",
    "    md += \"\"\"\\npermalink: /publication/\"\"\" + html_filename\n",
    "    \n",
    "    if len(str(item.excerpt)) > 5:\n",
    "        md += \"\\nexcerpt: '\" + html_escape(item.excerpt) + \"'\"\n",
    "    \n",
    "    md += \"\\ndate: \" + str(item.pub_date) \n",
    "    \n",
    "    md += \"\\nvenue: '\" + html_escape(item.venue) + \"'\"\n",
    "    \n",
    "    if len(str(item.slides_url)) > 5:\n",
    "        md += \"\\nslidesurl: '\" + item.slides_url + \"'\"\n",
    "\n",
    "    if len(str(item.paper_url)) > 5:\n",
    "        md += \"\\npaperurl: '\" + item.paper_url + \"'\"\n",
    "    \n",
    "    md += \"\\ncitation: '\" + html_escape(item.citation) + \"'\"\n",
    "\n",
    "    # MINIMAL ADDITION: add category if it exists\n",
    "    if len(str(item.category)) > 0 and str(item.category) != 'nan':\n",
    "        md += \"\\ncategory: \" + str(item['category'])\n",
    "    \n",
    "    # close it\n",
    "    md += \"\\n---\"\n",
    "    \n",
    "    ## Markdown description for individual page\n",
    "        \n",
    "    if len(str(item.excerpt)) > 5:\n",
    "        md += \"\\n\" + html_escape(item.excerpt) + \"\\n\"\n",
    "\n",
    "    if len(str(item.slides_url)) > 5:\n",
    "        md += \"\\n[Download slides here](\" + item.slides_url + \")\\n\" \n",
    "\n",
    "    if len(str(item.paper_url)) > 5:\n",
    "        md += \"\\n[Download paper here](\" + item.paper_url + \")\\n\" \n",
    "        \n",
    "    md += \"\\nRecommended citation: \" + item.citation\n",
    "    \n",
    "    md_filename = os.path.basename(md_filename)\n",
    "       \n",
    "    with open(\"../_publications/\" + md_filename, 'w') as f:\n",
    "        f.write(md)"
   ]
  },
  {
   "cell_type": "markdown",
   "metadata": {},
   "source": [
    "These files are in the publications directory, one directory below where we're working from."
   ]
  },
  {
   "cell_type": "code",
   "execution_count": null,
   "metadata": {
    "collapsed": false,
    "deletable": true,
    "editable": true
   },
   "outputs": [
    {
     "name": "stderr",
     "output_type": "stream",
     "text": [
      "1113.70s - pydevd: Sending message related to process being replaced timed-out after 5 seconds\n"
     ]
    },
    {
     "name": "stdout",
     "output_type": "stream",
     "text": [
      "2009-10-01-paper-title-number-1.md  2025-06-08-paper-title-number-5.md\n",
      "2010-10-01-paper-title-number-2.md  2025-08-01-bevivino-icphs-2023.md\n",
      "2015-10-01-paper-title-number-3.md  accepted-faytak-bts-2025.md\n",
      "2024-02-17-paper-title-number-4.md  inprep-bevivino-bap-2025.md\n",
      "2024-07-01-bevivino-sp-2024.md\t    inprep-bevivino-ppen-2025.md\n"
     ]
    }
   ],
   "source": [
    "!ls ../_publications/"
   ]
  },
  {
   "cell_type": "code",
   "execution_count": null,
   "metadata": {
    "collapsed": false,
    "deletable": true,
    "editable": true
   },
   "outputs": [
    {
     "name": "stderr",
     "output_type": "stream",
     "text": [
      "1118.84s - pydevd: Sending message related to process being replaced timed-out after 5 seconds\n"
     ]
    },
    {
     "name": "stdout",
     "output_type": "stream",
     "text": [
      "---\n",
      "title: \"Paper Title Number 1\"\n",
      "collection: publications\n",
      "permalink: /publication/2009-10-01-paper-title-number-1\n",
      "excerpt: 'This paper is about the number 1. The number 2 is left for future work.'\n",
      "date: 2009-10-01\n",
      "venue: 'Journal 1'\n",
      "slidesurl: 'http://academicpages.github.io/files/slides1.pdf'\n",
      "paperurl: 'http://academicpages.github.io/files/paper1.pdf'\n",
      "citation: 'Your Name, You. (2009). &quot;Paper Title Number 1.&quot; <i>Journal 1</i>. 1(1).'\n",
      "---\n",
      "This paper is about the number 1. The number 2 is left for future work.\n",
      "\n",
      "[Download slides here](http://academicpages.github.io/files/slides1.pdf)\n",
      "\n",
      "[Download paper here](http://academicpages.github.io/files/paper1.pdf)\n",
      "\n",
      "Recommended citation: Your Name, You. (2009). \"Paper Title Number 1.\" <i>Journal 1</i>. 1(1)."
     ]
    }
   ],
   "source": [
    "!cat ../_publications/2009-10-01-paper-title-number-1.md"
   ]
  },
  {
   "cell_type": "code",
   "execution_count": null,
   "metadata": {
    "collapsed": true,
    "deletable": true,
    "editable": true
   },
   "outputs": [],
   "source": []
  }
 ],
 "metadata": {
  "kernelspec": {
   "display_name": ".venv (3.13.5)",
   "language": "python",
   "name": "python3"
  },
  "language_info": {
   "codemirror_mode": {
    "name": "ipython",
    "version": 3
   },
   "file_extension": ".py",
   "mimetype": "text/x-python",
   "name": "python",
   "nbconvert_exporter": "python",
   "pygments_lexer": "ipython3",
   "version": "3.13.5"
  }
 },
 "nbformat": 4,
 "nbformat_minor": 0
}
