{
 "cells": [
  {
   "cell_type": "markdown",
   "metadata": {
    "deletable": true,
    "editable": true
   },
   "source": [
    "# Publications markdown generator for academicpages\n",
    "\n",
    "Takes a TSV of publications with metadata and converts them for use with [academicpages.github.io](academicpages.github.io). This is an interactive Jupyter notebook ([see more info here](http://jupyter-notebook-beginner-guide.readthedocs.io/en/latest/what_is_jupyter.html)). The core python code is also in `publications.py`. Run either from the `markdown_generator` folder after replacing `publications.tsv` with one containing your data.\n",
    "\n",
    "TODO: Make this work with BibTex and other databases of citations, rather than Stuart's non-standard TSV format and citation style.\n"
   ]
  },
  {
   "cell_type": "markdown",
   "metadata": {},
   "source": [
    "## Data format\n",
    "\n",
    "The TSV needs to have the following columns: pub_date, title, venue, excerpt, citation, site_url, and paper_url, with a header at the top. \n",
    "\n",
    "- `excerpt` and `paper_url` can be blank, but the others must have values. \n",
    "- `pub_date` must be formatted as YYYY-MM-DD.\n",
    "- `url_slug` will be the descriptive part of the .md file and the permalink URL for the page about the paper. The .md file will be `YYYY-MM-DD-[url_slug].md` and the permalink will be `https://[yourdomain]/publications/YYYY-MM-DD-[url_slug]`\n",
    "\n",
    "This is how the raw file looks (it doesn't look pretty, use a spreadsheet or other program to edit and create)."
   ]
  },
  {
   "cell_type": "code",
   "execution_count": 3,
   "metadata": {
    "collapsed": false
   },
   "outputs": [
    {
     "name": "stdout",
     "output_type": "stream",
     "text": [
      "pub_date\tcategory\ttitle\tvenue\texcerpt\tcitation\turl_slug\tpaper_url\tslides_url\n",
      "01/07/2024\tconferences\tPriming boundaries in production: Data from French \tProceedings of the 12th International Conference on Speech Prosody\t\t<strong>Bevivino, D.</strong>, Huygevelde, M., Hemforth, B., & Turco, G. (2024). Priming boundaries in production: Data from French. <em>Proceedings of the 12th International Conference on Speech Prosody</em>, 1005–1009. https://doi.org/10.21437/SpeechProsody.2024-203\tbevivino-sp-2024\thttps://doi.org/10.21437/SpeechProsody.2024-203\t\n",
      "01/08/2023\tconferences\tData from online production experiments and challenges for collecting good-quality recordings for prosodic analyses \tProceedings of the 20th International Congress of Phonetic Sciences (ICPhS 2023)\t\t<strong>Bevivino, D</strong>., Hemforth, B., & Turco, G. (2023). Data from online production experiments and challenges for collecting good-quality recordings for prosodic analyses. In: R. Skarnitzl & J. Volín (Eds.), <em>Proceedings of the 20th International Congress of Phonetic Sciences (ICPhS 2023)</em> (pp. 3452–3456). International Phonetic Association. https://www.internationalphoneticassociation.org/icphs-proceedings/ICPhS2023/full_papers/152.pdf\tbevivino-icphs-2023\thttps://www.internationalphoneticassociation.org/icphs-proceedings/ICPhS2023/full_papers/152.pdf\t\n",
      "01/10/2025\tinprogress\tBig Team Science for language science: Opportunities and challenges \tLinguistics: An Interdisciplinary Journal of the Language Sciences\t\tFaytak, M., _. Kadavá, O. Özsoy, C. Xu, […], <strong>Bevivino, D.</strong>, […], & Buchanan, E.M. and Roettger, T.B. (accepted). Big Team Science for Language Science: Opportunities and Challenges [preprint at https://osf.io/3pkj6]\tfaytak-bts-2025\t\t\n",
      "01/11/2025\tinprogress\tIntonational phrase boundaries can be primed in production\tin prep\t\t<strong>Bevivino, D.</strong>, Turco, G., & Hemforth, B. Intonational phrase boundaries can be primed in Production [pre-registered at https://doi.org/10.17605/OSF.IO/Z24KE]\tbevivino-ppen-2025\t\t\n",
      "01/12/2025\tinprogress\tPriming effects of delexicalized prosodic phrasing on implicit prosody and sentence processing - An eye-tracking study in French\tin prep\t\t<strong>Bevivino, D</strong>., Hemforth, B., & Turco, G. Priming effects of delexicalized prosodic phrasing on implicit prosody and sentence processing - An eye-tracking study in French [pre-registered at https://doi.org/10.17605/OSF.IO/SY5UW and at https://doi.org/10.17605/OSF.IO/9QP6K]\tbevivino-bap-2025\t\t\n",
      "EXTRALINE TO RUN LAST ITEM SAFELY\t\t\t\t\t\t\t\t"
     ]
    }
   ],
   "source": [
    "!cat publications.tsv"
   ]
  },
  {
   "cell_type": "markdown",
   "metadata": {},
   "source": [
    "## Import pandas\n",
    "\n",
    "We are using the very handy pandas library for dataframes."
   ]
  },
  {
   "cell_type": "code",
   "execution_count": 4,
   "metadata": {
    "collapsed": true,
    "deletable": true,
    "editable": true
   },
   "outputs": [],
   "source": [
    "import pandas as pd"
   ]
  },
  {
   "cell_type": "markdown",
   "metadata": {},
   "source": [
    "## Import TSV\n",
    "\n",
    "Pandas makes this easy with the read_csv function. We are using a TSV, so we specify the separator as a tab, or `\\t`.\n",
    "\n",
    "I found it important to put this data in a tab-separated values format, because there are a lot of commas in this kind of data and comma-separated values can get messed up. However, you can modify the import statement, as pandas also has read_excel(), read_json(), and others."
   ]
  },
  {
   "cell_type": "code",
   "execution_count": 9,
   "metadata": {
    "collapsed": false,
    "deletable": true,
    "editable": true
   },
   "outputs": [
    {
     "data": {
      "text/html": [
       "<div>\n",
       "<style scoped>\n",
       "    .dataframe tbody tr th:only-of-type {\n",
       "        vertical-align: middle;\n",
       "    }\n",
       "\n",
       "    .dataframe tbody tr th {\n",
       "        vertical-align: top;\n",
       "    }\n",
       "\n",
       "    .dataframe thead th {\n",
       "        text-align: right;\n",
       "    }\n",
       "</style>\n",
       "<table border=\"1\" class=\"dataframe\">\n",
       "  <thead>\n",
       "    <tr style=\"text-align: right;\">\n",
       "      <th></th>\n",
       "      <th>pub_date</th>\n",
       "      <th>category</th>\n",
       "      <th>title</th>\n",
       "      <th>venue</th>\n",
       "      <th>excerpt</th>\n",
       "      <th>citation</th>\n",
       "      <th>url_slug</th>\n",
       "      <th>paper_url</th>\n",
       "      <th>slides_url</th>\n",
       "    </tr>\n",
       "  </thead>\n",
       "  <tbody>\n",
       "    <tr>\n",
       "      <th>0</th>\n",
       "      <td>2024-07-01</td>\n",
       "      <td>conferences</td>\n",
       "      <td>Priming boundaries in production: Data from Fr...</td>\n",
       "      <td>Proceedings of the 12th International Conferen...</td>\n",
       "      <td>NaN</td>\n",
       "      <td>&lt;strong&gt;Bevivino, D.&lt;/strong&gt;, Huygevelde, M.,...</td>\n",
       "      <td>bevivino-sp-2024</td>\n",
       "      <td>https://doi.org/10.21437/SpeechProsody.2024-203</td>\n",
       "      <td>NaN</td>\n",
       "    </tr>\n",
       "    <tr>\n",
       "      <th>1</th>\n",
       "      <td>2023-08-01</td>\n",
       "      <td>conferences</td>\n",
       "      <td>Data from online production experiments and ch...</td>\n",
       "      <td>Proceedings of the 20th International Congress...</td>\n",
       "      <td>NaN</td>\n",
       "      <td>&lt;strong&gt;Bevivino, D&lt;/strong&gt;., Hemforth, B., &amp;...</td>\n",
       "      <td>bevivino-icphs-2023</td>\n",
       "      <td>https://www.internationalphoneticassociation.o...</td>\n",
       "      <td>NaN</td>\n",
       "    </tr>\n",
       "    <tr>\n",
       "      <th>2</th>\n",
       "      <td>2025-10-01</td>\n",
       "      <td>inprogress</td>\n",
       "      <td>Big Team Science for language science: Opportu...</td>\n",
       "      <td>Linguistics: An Interdisciplinary Journal of t...</td>\n",
       "      <td>NaN</td>\n",
       "      <td>Faytak, M., _. Kadavá, O. Özsoy, C. Xu, […], &lt;...</td>\n",
       "      <td>faytak-bts-2025</td>\n",
       "      <td>NaN</td>\n",
       "      <td>NaN</td>\n",
       "    </tr>\n",
       "    <tr>\n",
       "      <th>3</th>\n",
       "      <td>2025-11-01</td>\n",
       "      <td>inprogress</td>\n",
       "      <td>Intonational phrase boundaries can be primed i...</td>\n",
       "      <td>in prep</td>\n",
       "      <td>NaN</td>\n",
       "      <td>&lt;strong&gt;Bevivino, D.&lt;/strong&gt;, Turco, G., &amp; He...</td>\n",
       "      <td>bevivino-ppen-2025</td>\n",
       "      <td>NaN</td>\n",
       "      <td>NaN</td>\n",
       "    </tr>\n",
       "    <tr>\n",
       "      <th>4</th>\n",
       "      <td>2025-12-01</td>\n",
       "      <td>inprogress</td>\n",
       "      <td>Priming effects of delexicalized prosodic phra...</td>\n",
       "      <td>in prep</td>\n",
       "      <td>NaN</td>\n",
       "      <td>&lt;strong&gt;Bevivino, D&lt;/strong&gt;., Hemforth, B., &amp;...</td>\n",
       "      <td>bevivino-bap-2025</td>\n",
       "      <td>NaN</td>\n",
       "      <td>NaN</td>\n",
       "    </tr>\n",
       "    <tr>\n",
       "      <th>5</th>\n",
       "      <td>EXTRALINE TO RUN LAST ITEM SAFELY</td>\n",
       "      <td>NaN</td>\n",
       "      <td>NaN</td>\n",
       "      <td>NaN</td>\n",
       "      <td>NaN</td>\n",
       "      <td>NaN</td>\n",
       "      <td>NaN</td>\n",
       "      <td>NaN</td>\n",
       "      <td>NaN</td>\n",
       "    </tr>\n",
       "  </tbody>\n",
       "</table>\n",
       "</div>"
      ],
      "text/plain": [
       "                            pub_date     category  \\\n",
       "0                         2024-07-01  conferences   \n",
       "1                         2023-08-01  conferences   \n",
       "2                         2025-10-01   inprogress   \n",
       "3                         2025-11-01   inprogress   \n",
       "4                         2025-12-01   inprogress   \n",
       "5  EXTRALINE TO RUN LAST ITEM SAFELY          NaN   \n",
       "\n",
       "                                               title  \\\n",
       "0  Priming boundaries in production: Data from Fr...   \n",
       "1  Data from online production experiments and ch...   \n",
       "2  Big Team Science for language science: Opportu...   \n",
       "3  Intonational phrase boundaries can be primed i...   \n",
       "4  Priming effects of delexicalized prosodic phra...   \n",
       "5                                                NaN   \n",
       "\n",
       "                                               venue  excerpt  \\\n",
       "0  Proceedings of the 12th International Conferen...      NaN   \n",
       "1  Proceedings of the 20th International Congress...      NaN   \n",
       "2  Linguistics: An Interdisciplinary Journal of t...      NaN   \n",
       "3                                            in prep      NaN   \n",
       "4                                            in prep      NaN   \n",
       "5                                                NaN      NaN   \n",
       "\n",
       "                                            citation             url_slug  \\\n",
       "0  <strong>Bevivino, D.</strong>, Huygevelde, M.,...     bevivino-sp-2024   \n",
       "1  <strong>Bevivino, D</strong>., Hemforth, B., &...  bevivino-icphs-2023   \n",
       "2  Faytak, M., _. Kadavá, O. Özsoy, C. Xu, […], <...      faytak-bts-2025   \n",
       "3  <strong>Bevivino, D.</strong>, Turco, G., & He...   bevivino-ppen-2025   \n",
       "4  <strong>Bevivino, D</strong>., Hemforth, B., &...    bevivino-bap-2025   \n",
       "5                                                NaN                  NaN   \n",
       "\n",
       "                                           paper_url  slides_url  \n",
       "0    https://doi.org/10.21437/SpeechProsody.2024-203         NaN  \n",
       "1  https://www.internationalphoneticassociation.o...         NaN  \n",
       "2                                                NaN         NaN  \n",
       "3                                                NaN         NaN  \n",
       "4                                                NaN         NaN  \n",
       "5                                                NaN         NaN  "
      ]
     },
     "execution_count": 9,
     "metadata": {},
     "output_type": "execute_result"
    }
   ],
   "source": [
    "publications = pd.read_csv(\"publications.tsv\", sep=\"\\t\", header=0)\n",
    "publications\n"
   ]
  },
  {
   "cell_type": "markdown",
   "metadata": {},
   "source": [
    "## Escape special characters\n",
    "\n",
    "YAML is very picky about how it takes a valid string, so we are replacing single and double quotes (and ampersands) with their HTML encoded equivilents. This makes them look not so readable in raw format, but they are parsed and rendered nicely."
   ]
  },
  {
   "cell_type": "code",
   "execution_count": 10,
   "metadata": {
    "collapsed": true,
    "deletable": true,
    "editable": true
   },
   "outputs": [],
   "source": [
    "html_escape_table = {\n",
    "    \"&\": \"&amp;\",\n",
    "    '\"': \"&quot;\",\n",
    "    \"'\": \"&apos;\",\n",
    "    \"–\": \"&ndash;\"\n",
    "    }\n",
    "\n",
    "def html_escape(text):\n",
    "    \"\"\"Produce entities within text.\"\"\"\n",
    "    return \"\".join(html_escape_table.get(c,c) for c in text)"
   ]
  },
  {
   "cell_type": "markdown",
   "metadata": {},
   "source": [
    "## Creating the markdown files\n",
    "\n",
    "This is where the heavy lifting is done. This loops through all the rows in the TSV dataframe, then starts to concatentate a big string (```md```) that contains the markdown for each type. It does the YAML metadata first, then does the description for the individual page."
   ]
  },
  {
   "cell_type": "code",
   "execution_count": 11,
   "metadata": {
    "collapsed": false,
    "deletable": true,
    "editable": true
   },
   "outputs": [
    {
     "ename": "TypeError",
     "evalue": "can only concatenate str (not \"float\") to str",
     "output_type": "error",
     "traceback": [
      "\u001b[31m---------------------------------------------------------------------------\u001b[39m",
      "\u001b[31mTypeError\u001b[39m                                 Traceback (most recent call last)",
      "\u001b[36mCell\u001b[39m\u001b[36m \u001b[39m\u001b[32mIn[11]\u001b[39m\u001b[32m, line 4\u001b[39m\n\u001b[32m      1\u001b[39m \u001b[38;5;28;01mimport\u001b[39;00m\u001b[38;5;250m \u001b[39m\u001b[34;01mos\u001b[39;00m\n\u001b[32m      2\u001b[39m \u001b[38;5;28;01mfor\u001b[39;00m row, item \u001b[38;5;129;01min\u001b[39;00m publications.iterrows():\n\u001b[32m----> \u001b[39m\u001b[32m4\u001b[39m     md_filename = \u001b[38;5;28;43mstr\u001b[39;49m\u001b[43m(\u001b[49m\u001b[43mitem\u001b[49m\u001b[43m.\u001b[49m\u001b[43mpub_date\u001b[49m\u001b[43m)\u001b[49m\u001b[43m \u001b[49m\u001b[43m+\u001b[49m\u001b[43m \u001b[49m\u001b[33;43m\"\u001b[39;49m\u001b[33;43m-\u001b[39;49m\u001b[33;43m\"\u001b[39;49m\u001b[43m \u001b[49m\u001b[43m+\u001b[49m\u001b[43m \u001b[49m\u001b[43mitem\u001b[49m\u001b[43m.\u001b[49m\u001b[43murl_slug\u001b[49m + \u001b[33m\"\u001b[39m\u001b[33m.md\u001b[39m\u001b[33m\"\u001b[39m\n\u001b[32m      5\u001b[39m     html_filename = \u001b[38;5;28mstr\u001b[39m(item.pub_date) + \u001b[33m\"\u001b[39m\u001b[33m-\u001b[39m\u001b[33m\"\u001b[39m + item.url_slug\n\u001b[32m      6\u001b[39m     year = item.pub_date[:\u001b[32m4\u001b[39m]\n",
      "\u001b[31mTypeError\u001b[39m: can only concatenate str (not \"float\") to str"
     ]
    }
   ],
   "source": [
    "import os\n",
    "for row, item in publications.iterrows():\n",
    "    \n",
    "    md_filename = str(item.pub_date) + \"-\" + item.url_slug + \".md\"\n",
    "    html_filename = str(item.pub_date) + \"-\" + item.url_slug\n",
    "    year = item.pub_date[:4]\n",
    "    \n",
    "    ## YAML variables\n",
    "    \n",
    "    md = \"---\\ntitle: \\\"\"   + item.title + '\"\\n'\n",
    "    \n",
    "    md += \"\"\"collection: publications\"\"\"\n",
    "    \n",
    "    md += \"\"\"\\npermalink: /publication/\"\"\" + html_filename\n",
    "    \n",
    "    if len(str(item.excerpt)) > 5:\n",
    "        md += \"\\nexcerpt: '\" + html_escape(item.excerpt) + \"'\"\n",
    "    \n",
    "    md += \"\\ndate: \" + str(item.pub_date) \n",
    "    \n",
    "    md += \"\\nvenue: '\" + html_escape(item.venue) + \"'\"\n",
    "    \n",
    "    if len(str(item.slides_url)) > 5:\n",
    "        md += \"\\nslidesurl: '\" + item.slides_url + \"'\"\n",
    "\n",
    "    if len(str(item.paper_url)) > 5:\n",
    "        md += \"\\npaperurl: '\" + item.paper_url + \"'\"\n",
    "    \n",
    "    md += \"\\ncitation: '\" + html_escape(item.citation) + \"'\"\n",
    "\n",
    "    # MINIMAL ADDITION: add category if it exists\n",
    "    if len(str(item.category)) > 0 and str(item.category) != 'nan':\n",
    "        md += \"\\ncategory: \" + str(item['category'])\n",
    "    \n",
    "    # close it\n",
    "    md += \"\\n---\"\n",
    "    \n",
    "    ## Markdown description for individual page\n",
    "        \n",
    "    # if len(str(item.excerpt)) > 5:\n",
    "    #     md += \"\\n\" + html_escape(item.excerpt) + \"\\n\"\n",
    "\n",
    "    ######## if len(str(item.description)) > 3:\n",
    "        ########     md += \"\\n\" + html_escape(item.description) + \"\\n\"\n",
    "\n",
    "    # if len(str(item.slides_url)) > 5:\n",
    "    #     md += \"\\n[Download slides here](\" + item.slides_url + \")\\n\" \n",
    "\n",
    "    # if len(str(item.paper_url)) > 5:\n",
    "    #     md += \"\\n[Download paper here](\" + item.paper_url + \")\\n\" \n",
    "        \n",
    "    # md += \"\\nRecommended citation: \" + item.citation\n",
    "    \n",
    "    md_filename = os.path.basename(md_filename)\n",
    "       \n",
    "    with open(\"../_publications/\" + md_filename, 'w') as f:\n",
    "        f.write(md)"
   ]
  },
  {
   "cell_type": "markdown",
   "metadata": {},
   "source": [
    "These files are in the publications directory, one directory below where we're working from."
   ]
  },
  {
   "cell_type": "code",
   "execution_count": 12,
   "metadata": {
    "collapsed": false,
    "deletable": true,
    "editable": true
   },
   "outputs": [
    {
     "name": "stdout",
     "output_type": "stream",
     "text": [
      "2009-example-output.md\t\t   2025-10-01-faytak-bts-2025.md\n",
      "2023-08-01-bevivino-icphs-2023.md  2025-11-01-bevivino-ppen-2025.md\n",
      "2024-07-01-bevivino-sp-2024.md\t   2025-12-01-bevivino-bap-2025.md\n"
     ]
    }
   ],
   "source": [
    "!ls ../_publications/"
   ]
  },
  {
   "cell_type": "code",
   "execution_count": 13,
   "metadata": {
    "collapsed": false,
    "deletable": true,
    "editable": true
   },
   "outputs": [
    {
     "name": "stdout",
     "output_type": "stream",
     "text": [
      "cat: ../_publications/2009-10-01-paper-title-number-1.md: No such file or directory\n"
     ]
    },
    {
     "name": "stderr",
     "output_type": "stream",
     "text": [
      "Bad pipe message: %s [b' q=0.9, image/avif, image/webp, image/apng, */*; q=0.8, application/signed-exchange; v=b3; q=0.7\\r\\nHost: loc', b'host:40071\\r\\nUser-Agent: Mozilla/5.0 (Macintosh; Intel Mac OS X 10_15_7) AppleWebKit/537.36 (KHTM']\n",
      "Bad pipe message: %s [b' like Gecko) Chrome/138.0.0.0 Safari/537.36\\r\\nAccept-Encoding: gzip, deflate']\n",
      "Bad pipe message: %s [b'br, zstd\\r\\nAccept-Language: en-US, en; q=0.9']\n",
      "Bad pipe message: %s [b'it; q=0.8\\r\\nCache-Control: max-age=0\\r\\nRefere']\n",
      "Bad pipe message: %s [b' https://refactored-couscous-r5qxv65q4jwh59p.github.dev/\\r\\nX-Request-ID: d5bc366e85891fcd79001e8d56c47b47\\r\\nX-Real-']\n",
      "Bad pipe message: %s [b': 10.241.0.36\\r\\nX-Forwarded-Port: 443\\r\\nX-Forwarded-Scheme: https\\r\\nX-Origi']\n",
      "Bad pipe message: %s [b'l-URI: /\\r\\nX-Scheme: https\\r\\nsec-fetch-site: same-site\\r\\nsec-fetch-mode: navigate\\r\\nsec-fetch-dest: document\\r\\nsec', b'h-ua: \"Not)A;Brand\";v=\"8\", \"Chromium\";v=\"138', b' \"Google Chrome\";v=\"138\"\\r\\nsec-ch-']\n",
      "Bad pipe message: %s [b' q=0.9, image/avif, image/webp, image/apng, */*; q=0.8, application/signed-exchange; v=b3; q=0.7\\r\\nHost: loc', b'host:40071\\r\\nUser-Agent: Mozilla/5.0 (Macintosh; Intel Mac OS X 10_15_7) AppleWebKit/537.36 (KHTM']\n",
      "Bad pipe message: %s [b' like Gecko) Chrome/138.0.0.0 Safari/537.36\\r\\nAccept-Encoding: gzip, deflate']\n",
      "Bad pipe message: %s [b'br, zstd\\r\\nAccept-Language: en-US, en; q=0.9']\n",
      "Bad pipe message: %s [b'it; q=0.8\\r\\nReferer: https://refactored-cous']\n",
      "Bad pipe message: %s [b'us-r5qxv65q4jwh59p.github.dev/\\r\\nX-Request-ID: 9ce8a82f5c4e0fffab4f2cc8bdaddb18\\r\\nX-Real-IP: 10.241.', b'36\\r\\nX-Forwarded-Port: 443\\r\\nX-Forwarded-Scheme: ']\n",
      "Bad pipe message: %s [b'tps\\r\\nX-Original-URI: /\\r\\nX-Scheme: https\\r\\nsec-ch-ua: \"Not)A;Brand\";v=\"8\", \"Chromium\";v=\"138\", \"Google Ch']\n",
      "Bad pipe message: %s [b'me\";v=\"138\"\\r\\nsec-ch-ua-mobile: ?0\\r\\nsec-ch-ua-platform: \"macOS\"\\r\\nsec-fetch-site: same-site\\r\\nsec-fetch-mode: naviga', b'\\r\\nsec-fetch-user: ?1\\r\\nsec-fetch-dest: document\\r\\npriority: u=0, i\\r\\nx-original-proto: https\\r\\nX-Forwarded-Proto: https', b'X-Forwarded-']\n"
     ]
    }
   ],
   "source": [
    "!cat ../_publications/2009-10-01-paper-title-number-1.md"
   ]
  },
  {
   "cell_type": "code",
   "execution_count": null,
   "metadata": {
    "collapsed": true,
    "deletable": true,
    "editable": true
   },
   "outputs": [],
   "source": []
  }
 ],
 "metadata": {
  "kernelspec": {
   "display_name": "Python (myenv)",
   "language": "python",
   "name": "myenv"
  },
  "language_info": {
   "codemirror_mode": {
    "name": "ipython",
    "version": 3
   },
   "file_extension": ".py",
   "mimetype": "text/x-python",
   "name": "python",
   "nbconvert_exporter": "python",
   "pygments_lexer": "ipython3",
   "version": "3.13.7"
  }
 },
 "nbformat": 4,
 "nbformat_minor": 0
}
