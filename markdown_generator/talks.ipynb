{
 "cells": [
  {
   "cell_type": "markdown",
   "metadata": {
    "deletable": true,
    "editable": true
   },
   "source": [
    "# Talks markdown generator for academicpages\n",
    "\n",
    "Takes a TSV of talks with metadata and converts them for use with [academicpages.github.io](academicpages.github.io). This is an interactive Jupyter notebook ([see more info here](http://jupyter-notebook-beginner-guide.readthedocs.io/en/latest/what_is_jupyter.html)). The core python code is also in `talks.py`. Run either from the `markdown_generator` folder after replacing `talks.tsv` with one containing your data.\n",
    "\n",
    "TODO: Make this work with BibTex and other databases, rather than Stuart's non-standard TSV format and citation style."
   ]
  },
  {
   "cell_type": "code",
   "execution_count": 6,
   "metadata": {
    "collapsed": false,
    "deletable": true,
    "editable": true
   },
   "outputs": [],
   "source": [
    "import pandas as pd\n",
    "import os"
   ]
  },
  {
   "cell_type": "markdown",
   "metadata": {},
   "source": [
    "## Data format\n",
    "\n",
    "The TSV needs to have the following columns: title, type, url_slug, venue, date, location, talk_url, description, with a header at the top. Many of these fields can be blank, but the columns must be in the TSV.\n",
    "\n",
    "- Fields that cannot be blank: `title`, `url_slug`, `date`. All else can be blank. `type` defaults to \"Talk\" \n",
    "- `date` must be formatted as YYYY-MM-DD.\n",
    "- `url_slug` will be the descriptive part of the .md file and the permalink URL for the page about the paper. \n",
    "    - The .md file will be `YYYY-MM-DD-[url_slug].md` and the permalink will be `https://[yourdomain]/talks/YYYY-MM-DD-[url_slug]`\n",
    "    - The combination of `url_slug` and `date` must be unique, as it will be the basis for your filenames\n",
    "\n",
    "This is how the raw file looks (it doesn't look pretty, use a spreadsheet or other program to edit and create)."
   ]
  },
  {
   "cell_type": "code",
   "execution_count": 7,
   "metadata": {
    "collapsed": false
   },
   "outputs": [
    {
     "name": "stdout",
     "output_type": "stream",
     "text": [
      "title\tcategory\ttype\turl_slug\tvenue\tdate\tlocation\ttalk_url\tdescription\tcitation\n",
      "Priming boundaries in production: Data from French\ttalks\ttalk\tbevivino-SP-2024\t\t2024-07-05\tLeiden, The Netherlands \t\t\t<strong>Bevivino, D.</strong>, Huygevelde, M., Hemforth, B., & Turco, G. (2024, July 5). Priming boundaries in production: Data from French. <em>12th International Conference on Speech Prosody. Special Session on Advances in studies on prosodic planning</em>. Leiden, The Netherlands. [Talk & <a href=\"https://www.isca-archive.org/speechprosody_2024/bevivino24_speechprosody.html\">Proceedings paper</a>]\n",
      "Priming prosodic boundaries across constructions \ttalks\ttalk\tbevivino-LE-2022\t\t2022-10-06\tParis, France\t\t\t<strong>Bevivino, D.</strong>, Turco, G., & Hemforth, B. (2022, October 6). Priming prosodic boundaries across constructions. <em>Linguistic Evidence Conference</em>. Paris, France. [Talk & <a href=\"https://cnrs.hal.science/hal-03924619/document\">Conference paper</a>]\n",
      "Attention and labelling in monolingual and bilingual caregiver-infant interactions\ttalks\ttalk\tbevivino-ICIS-2022\t\t2022-07-09\tOttawa, Canada \t\t\tKalashnikova, M., <strong>Bevivino, D.</strong>, & Singh, L. (2022, July 9). Attention and labelling in monolingual and bilingual caregiver-infant interactions. <em>International Congress of Infant Studies (ICIS)</em>. Ottawa, Canada. [Talk delivered by MK &  <a href=\"https://infantstudies.org/wp-content/uploads/2022/07/ICIS-2022-Abstract-ProceedingsJuly07.pdf#page=76\">Abstract</a>]\n",
      "Caregivers adjust their speech in response to bilingual infants’ attentional preferences \ttalks\ttalk\tbevivino-ABC-2021\t\t2021-12-04\tThe Chinese University of Hong Kong/Virtual \t\t\t<strong>Bevivino, D.</strong>, Singh, L., & Kalashnikova, M. (2021, December 4). Caregivers adjust their speech in response to bilingual infants' attentional preferences. <em>ABC'39;21 Conference: Language and cognition in typical and atypical development</em>. The Chinese University of Hong Kong/Virtual.\n"
     ]
    }
   ],
   "source": [
    "!cat talks.tsv"
   ]
  },
  {
   "cell_type": "markdown",
   "metadata": {},
   "source": [
    "## Import TSV\n",
    "\n",
    "Pandas makes this easy with the read_csv function. We are using a TSV, so we specify the separator as a tab, or `\\t`.\n",
    "\n",
    "I found it important to put this data in a tab-separated values format, because there are a lot of commas in this kind of data and comma-separated values can get messed up. However, you can modify the import statement, as pandas also has read_excel(), read_json(), and others."
   ]
  },
  {
   "cell_type": "code",
   "execution_count": 8,
   "metadata": {
    "collapsed": false,
    "deletable": true,
    "editable": true
   },
   "outputs": [
    {
     "data": {
      "text/html": [
       "<div>\n",
       "<style scoped>\n",
       "    .dataframe tbody tr th:only-of-type {\n",
       "        vertical-align: middle;\n",
       "    }\n",
       "\n",
       "    .dataframe tbody tr th {\n",
       "        vertical-align: top;\n",
       "    }\n",
       "\n",
       "    .dataframe thead th {\n",
       "        text-align: right;\n",
       "    }\n",
       "</style>\n",
       "<table border=\"1\" class=\"dataframe\">\n",
       "  <thead>\n",
       "    <tr style=\"text-align: right;\">\n",
       "      <th></th>\n",
       "      <th>title</th>\n",
       "      <th>category</th>\n",
       "      <th>type</th>\n",
       "      <th>url_slug</th>\n",
       "      <th>venue</th>\n",
       "      <th>date</th>\n",
       "      <th>location</th>\n",
       "      <th>talk_url</th>\n",
       "      <th>description</th>\n",
       "      <th>citation</th>\n",
       "    </tr>\n",
       "  </thead>\n",
       "  <tbody>\n",
       "    <tr>\n",
       "      <th>0</th>\n",
       "      <td>Priming boundaries in production: Data from Fr...</td>\n",
       "      <td>talks</td>\n",
       "      <td>talk</td>\n",
       "      <td>bevivino-SP-2024</td>\n",
       "      <td>NaN</td>\n",
       "      <td>2024-07-05</td>\n",
       "      <td>Leiden, The Netherlands</td>\n",
       "      <td>NaN</td>\n",
       "      <td>NaN</td>\n",
       "      <td>&lt;strong&gt;Bevivino, D.&lt;/strong&gt;, Huygevelde, M.,...</td>\n",
       "    </tr>\n",
       "    <tr>\n",
       "      <th>1</th>\n",
       "      <td>Priming prosodic boundaries across constructions</td>\n",
       "      <td>talks</td>\n",
       "      <td>talk</td>\n",
       "      <td>bevivino-LE-2022</td>\n",
       "      <td>NaN</td>\n",
       "      <td>2022-10-06</td>\n",
       "      <td>Paris, France</td>\n",
       "      <td>NaN</td>\n",
       "      <td>NaN</td>\n",
       "      <td>&lt;strong&gt;Bevivino, D.&lt;/strong&gt;, Turco, G., &amp; He...</td>\n",
       "    </tr>\n",
       "    <tr>\n",
       "      <th>2</th>\n",
       "      <td>Attention and labelling in monolingual and bil...</td>\n",
       "      <td>talks</td>\n",
       "      <td>talk</td>\n",
       "      <td>bevivino-ICIS-2022</td>\n",
       "      <td>NaN</td>\n",
       "      <td>2022-07-09</td>\n",
       "      <td>Ottawa, Canada</td>\n",
       "      <td>NaN</td>\n",
       "      <td>NaN</td>\n",
       "      <td>Kalashnikova, M., &lt;strong&gt;Bevivino, D.&lt;/strong...</td>\n",
       "    </tr>\n",
       "    <tr>\n",
       "      <th>3</th>\n",
       "      <td>Caregivers adjust their speech in response to ...</td>\n",
       "      <td>talks</td>\n",
       "      <td>talk</td>\n",
       "      <td>bevivino-ABC-2021</td>\n",
       "      <td>NaN</td>\n",
       "      <td>2021-12-04</td>\n",
       "      <td>The Chinese University of Hong Kong/Virtual</td>\n",
       "      <td>NaN</td>\n",
       "      <td>NaN</td>\n",
       "      <td>&lt;strong&gt;Bevivino, D.&lt;/strong&gt;, Singh, L., &amp; Ka...</td>\n",
       "    </tr>\n",
       "  </tbody>\n",
       "</table>\n",
       "</div>"
      ],
      "text/plain": [
       "                                               title category  type  \\\n",
       "0  Priming boundaries in production: Data from Fr...    talks  talk   \n",
       "1  Priming prosodic boundaries across constructions     talks  talk   \n",
       "2  Attention and labelling in monolingual and bil...    talks  talk   \n",
       "3  Caregivers adjust their speech in response to ...    talks  talk   \n",
       "\n",
       "             url_slug  venue        date  \\\n",
       "0    bevivino-SP-2024    NaN  2024-07-05   \n",
       "1    bevivino-LE-2022    NaN  2022-10-06   \n",
       "2  bevivino-ICIS-2022    NaN  2022-07-09   \n",
       "3   bevivino-ABC-2021    NaN  2021-12-04   \n",
       "\n",
       "                                       location  talk_url  description  \\\n",
       "0                      Leiden, The Netherlands        NaN          NaN   \n",
       "1                                 Paris, France       NaN          NaN   \n",
       "2                               Ottawa, Canada        NaN          NaN   \n",
       "3  The Chinese University of Hong Kong/Virtual        NaN          NaN   \n",
       "\n",
       "                                            citation  \n",
       "0  <strong>Bevivino, D.</strong>, Huygevelde, M.,...  \n",
       "1  <strong>Bevivino, D.</strong>, Turco, G., & He...  \n",
       "2  Kalashnikova, M., <strong>Bevivino, D.</strong...  \n",
       "3  <strong>Bevivino, D.</strong>, Singh, L., & Ka...  "
      ]
     },
     "execution_count": 8,
     "metadata": {},
     "output_type": "execute_result"
    }
   ],
   "source": [
    "talks = pd.read_csv(\"talks.tsv\", sep=\"\\t\", header=0)\n",
    "talks"
   ]
  },
  {
   "cell_type": "markdown",
   "metadata": {},
   "source": [
    "## Escape special characters\n",
    "\n",
    "YAML is very picky about how it takes a valid string, so we are replacing single and double quotes (and ampersands) with their HTML encoded equivilents. This makes them look not so readable in raw format, but they are parsed and rendered nicely."
   ]
  },
  {
   "cell_type": "code",
   "execution_count": 9,
   "metadata": {
    "collapsed": false,
    "deletable": true,
    "editable": true
   },
   "outputs": [],
   "source": [
    "html_escape_table = {\n",
    "    \"&\": \"&amp;\",\n",
    "    '\"': \"&quot;\",\n",
    "    \"'\": \"&apos;\",\n",
    "    \"–\": \"&ndash;\"\n",
    "    }\n",
    "\n",
    "def html_escape(text):\n",
    "    if type(text) is str:\n",
    "        return \"\".join(html_escape_table.get(c,c) for c in text)\n",
    "    else:\n",
    "        return \"False\""
   ]
  },
  {
   "cell_type": "markdown",
   "metadata": {},
   "source": [
    "## Creating the markdown files\n",
    "\n",
    "This is where the heavy lifting is done. This loops through all the rows in the TSV dataframe, then starts to concatentate a big string (```md```) that contains the markdown for each type. It does the YAML metadata first, then does the description for the individual page."
   ]
  },
  {
   "cell_type": "code",
   "execution_count": 10,
   "metadata": {
    "collapsed": false,
    "deletable": true,
    "editable": true
   },
   "outputs": [],
   "source": [
    "loc_dict = {}\n",
    "\n",
    "for row, item in talks.iterrows():\n",
    "    \n",
    "    md_filename = str(item.date) + \"-\" + item.url_slug + \".md\"\n",
    "    html_filename = str(item.date) + \"-\" + item.url_slug \n",
    "    year = item.date[:4]\n",
    "    \n",
    "    md = \"---\\ntitle: \\\"\"   + item.title + '\"\\n'\n",
    "    md += \"collection: talks\" + \"\\n\"\n",
    "    \n",
    "    if len(str(item.type)) > 3:\n",
    "        md += 'type: \"' + item.type + '\"\\n'\n",
    "    else:\n",
    "        md += 'type: \"Talk\"\\n'\n",
    "    \n",
    "    md += \"permalink: /talks/\" + html_filename + \"\\n\"\n",
    "    \n",
    "    if len(str(item.venue)) > 3:\n",
    "        md += 'venue: \"' + item.venue + '\"\\n'\n",
    "        \n",
    "    if len(str(item.location)) > 3:\n",
    "        md += \"date: \" + str(item.date) + \"\\n\"\n",
    "    \n",
    "    if len(str(item.location)) > 3:\n",
    "        md += 'location: \"' + str(item.location) + '\"\\n'\n",
    "    \n",
    "    # ADD CITATION\n",
    "    md += \"\\ncitation: '\" + html_escape(item.citation) + \"'\"\n",
    "    \n",
    "    # MINIMAL ADDITION: add category if it exists\n",
    "    if len(str(item.category)) > 0 and str(item.category) != 'nan':\n",
    "        md += \"\\ncategory: \" + str(item['category'])\n",
    "    \n",
    "    # close it       \n",
    "    md += \"---\\n\"\n",
    "    \n",
    "    \n",
    "    if len(str(item.talk_url)) > 3:\n",
    "        md += \"\\n[More information here](\" + item.talk_url + \")\\n\" \n",
    "        \n",
    "    \n",
    "    if len(str(item.description)) > 3:\n",
    "        md += \"\\n\" + html_escape(item.description) + \"\\n\"\n",
    "        \n",
    "        \n",
    "    md_filename = os.path.basename(md_filename)\n",
    "    #print(md)\n",
    "    \n",
    "    with open(\"../_talks/\" + md_filename, 'w') as f:\n",
    "        f.write(md)"
   ]
  },
  {
   "cell_type": "markdown",
   "metadata": {},
   "source": [
    "These files are in the talks directory, one directory below where we're working from."
   ]
  },
  {
   "cell_type": "code",
   "execution_count": 11,
   "metadata": {
    "collapsed": false,
    "deletable": true,
    "editable": true
   },
   "outputs": [
    {
     "name": "stdout",
     "output_type": "stream",
     "text": [
      "2012-03-01-talk-1.md\t\t  2022-10-06-bevivino-LE-2022.md\n",
      "2021-12-04-bevivino-ABC-2021.md   2024-07-05-bevivino-SP-2024.md\n",
      "2022-07-09-bevivino-ICIS-2022.md\n"
     ]
    }
   ],
   "source": [
    "!ls ../_talks"
   ]
  },
  {
   "cell_type": "code",
   "execution_count": 12,
   "metadata": {
    "collapsed": false,
    "deletable": true,
    "editable": true
   },
   "outputs": [
    {
     "name": "stdout",
     "output_type": "stream",
     "text": [
      "cat: ../_talks/2013-03-01-tutorial-1.md: No such file or directory\n"
     ]
    }
   ],
   "source": [
    "!cat ../_talks/2013-03-01-tutorial-1.md"
   ]
  }
 ],
 "metadata": {
  "kernelspec": {
   "display_name": ".venv (3.13.5)",
   "language": "python",
   "name": "python3"
  },
  "language_info": {
   "codemirror_mode": {
    "name": "ipython",
    "version": 3
   },
   "file_extension": ".py",
   "mimetype": "text/x-python",
   "name": "python",
   "nbconvert_exporter": "python",
   "pygments_lexer": "ipython3",
   "version": "3.13.5"
  }
 },
 "nbformat": 4,
 "nbformat_minor": 0
}
